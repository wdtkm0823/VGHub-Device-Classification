{
 "cells": [
  {
   "cell_type": "code",
   "execution_count": 1,
   "metadata": {},
   "outputs": [
    {
     "ename": "ModuleNotFoundError",
     "evalue": "No module named 'pandas'",
     "output_type": "error",
     "traceback": [
      "\u001b[0;31m---------------------------------------------------------------------------\u001b[0m",
      "\u001b[0;31mModuleNotFoundError\u001b[0m                       Traceback (most recent call last)",
      "\u001b[1;32m/Users/wadatakumi/Documents/research/visualization/googlepixel3a#1.ipynb セル 1\u001b[0m line \u001b[0;36m1\n\u001b[0;32m----> <a href='vscode-notebook-cell:/Users/wadatakumi/Documents/research/visualization/googlepixel3a%231.ipynb#W0sZmlsZQ%3D%3D?line=0'>1</a>\u001b[0m \u001b[39mimport\u001b[39;00m \u001b[39mpandas\u001b[39;00m \u001b[39mas\u001b[39;00m \u001b[39mpd\u001b[39;00m\n\u001b[1;32m      <a href='vscode-notebook-cell:/Users/wadatakumi/Documents/research/visualization/googlepixel3a%231.ipynb#W0sZmlsZQ%3D%3D?line=1'>2</a>\u001b[0m \u001b[39mimport\u001b[39;00m \u001b[39mmatplotlib\u001b[39;00m\u001b[39m.\u001b[39;00m\u001b[39mpyplot\u001b[39;00m \u001b[39mas\u001b[39;00m \u001b[39mplt\u001b[39;00m\n",
      "\u001b[0;31mModuleNotFoundError\u001b[0m: No module named 'pandas'"
     ]
    }
   ],
   "source": [
    "import pandas as pd\n",
    "import matplotlib.pyplot as plt"
   ]
  },
  {
   "cell_type": "code",
   "execution_count": 3,
   "metadata": {},
   "outputs": [
    {
     "ename": "NameError",
     "evalue": "name 'pd' is not defined",
     "output_type": "error",
     "traceback": [
      "\u001b[0;31m---------------------------------------------------------------------------\u001b[0m",
      "\u001b[0;31mNameError\u001b[0m                                 Traceback (most recent call last)",
      "\u001b[1;32m/Users/wadatakumi/Documents/research/visualization/googlepixel3a#1.ipynb セル 2\u001b[0m line \u001b[0;36m1\n\u001b[0;32m----> <a href='vscode-notebook-cell:/Users/wadatakumi/Documents/research/visualization/googlepixel3a%231.ipynb#W1sZmlsZQ%3D%3D?line=0'>1</a>\u001b[0m data_1 \u001b[39m=\u001b[39m pd\u001b[39m.\u001b[39mread_csv(\u001b[39m'\u001b[39m\u001b[39moutput_vghub_15s_data_3_pixel3a#1_soc10_home_1.csv\u001b[39m\u001b[39m'\u001b[39m)\n\u001b[1;32m      <a href='vscode-notebook-cell:/Users/wadatakumi/Documents/research/visualization/googlepixel3a%231.ipynb#W1sZmlsZQ%3D%3D?line=1'>2</a>\u001b[0m data_2 \u001b[39m=\u001b[39m pd\u001b[39m.\u001b[39mread_csv(\u001b[39m'\u001b[39m\u001b[39moutput_vghub_15s_data_3_pixel3a#1_soc10_home_2.csv\u001b[39m\u001b[39m'\u001b[39m)\n\u001b[1;32m      <a href='vscode-notebook-cell:/Users/wadatakumi/Documents/research/visualization/googlepixel3a%231.ipynb#W1sZmlsZQ%3D%3D?line=2'>3</a>\u001b[0m data_3 \u001b[39m=\u001b[39m pd\u001b[39m.\u001b[39mread_csv(\u001b[39m'\u001b[39m\u001b[39moutput_vghub_15s_data_3_pixel3a#1_soc10_home_3.csv\u001b[39m\u001b[39m'\u001b[39m)\n",
      "\u001b[0;31mNameError\u001b[0m: name 'pd' is not defined"
     ]
    }
   ],
   "source": [
    "data_1 = pd.read_csv('output_vghub_15s_data_3_pixel3a#1_soc10_home_1.csv')\n",
    "data_2 = pd.read_csv('output_vghub_15s_data_3_pixel3a#1_soc10_home_2.csv')\n",
    "data_3 = pd.read_csv('output_vghub_15s_data_3_pixel3a#1_soc10_home_3.csv')\n",
    "data_4 = pd.read_csv('output_vghub_15s_data_3_pixel3a#1_soc10_home_4.csv')\n",
    "data_5 = pd.read_csv('output_vghub_15s_data_3_pixel3a#1_soc10_home_5.csv')"
   ]
  },
  {
   "cell_type": "code",
   "execution_count": 2,
   "metadata": {},
   "outputs": [
    {
     "ename": "NameError",
     "evalue": "name 'data_1' is not defined",
     "output_type": "error",
     "traceback": [
      "\u001b[0;31m---------------------------------------------------------------------------\u001b[0m",
      "\u001b[0;31mNameError\u001b[0m                                 Traceback (most recent call last)",
      "\u001b[1;32m/Users/wadatakumi/Documents/research/visualization/googlepixel3a#1.ipynb セル 3\u001b[0m line \u001b[0;36m2\n\u001b[1;32m      <a href='vscode-notebook-cell:/Users/wadatakumi/Documents/research/visualization/googlepixel3a%231.ipynb#W2sZmlsZQ%3D%3D?line=0'>1</a>\u001b[0m column_name \u001b[39m=\u001b[39m \u001b[39m'\u001b[39m\u001b[39mVBUSVoltage[V]\u001b[39m\u001b[39m'\u001b[39m \n\u001b[0;32m----> <a href='vscode-notebook-cell:/Users/wadatakumi/Documents/research/visualization/googlepixel3a%231.ipynb#W2sZmlsZQ%3D%3D?line=1'>2</a>\u001b[0m data_1_column \u001b[39m=\u001b[39m data_1[column_name]\n\u001b[1;32m      <a href='vscode-notebook-cell:/Users/wadatakumi/Documents/research/visualization/googlepixel3a%231.ipynb#W2sZmlsZQ%3D%3D?line=2'>3</a>\u001b[0m data_2_column \u001b[39m=\u001b[39m data_2[column_name]\n\u001b[1;32m      <a href='vscode-notebook-cell:/Users/wadatakumi/Documents/research/visualization/googlepixel3a%231.ipynb#W2sZmlsZQ%3D%3D?line=3'>4</a>\u001b[0m data_3_column \u001b[39m=\u001b[39m data_3[column_name]\n",
      "\u001b[0;31mNameError\u001b[0m: name 'data_1' is not defined"
     ]
    }
   ],
   "source": [
    "column_name = 'VBUSVoltage[V]' \n",
    "data_1_column = data_1[column_name]\n",
    "data_2_column = data_2[column_name]\n",
    "data_3_column = data_3[column_name]\n",
    "data_4_column = data_4[column_name]\n",
    "data_5_column = data_5[column_name]\n",
    "\n",
    "# グラフのプロット\n",
    "plt.figure(figsize=(10, 6))\n",
    "plt.plot(data_1_column, label='File 1')\n",
    "plt.plot(data_2_column, label='File 2')\n",
    "plt.plot(data_3_column, label='File 3')\n",
    "plt.plot(data_4_column, label='File 4')\n",
    "plt.plot(data_5_column, label='File 5')\n",
    "\n",
    "# グラフの設定\n",
    "plt.title('3rd Column Data')\n",
    "plt.xlabel('X-axis Label')\n",
    "plt.ylabel('Y-axis Label')\n",
    "plt.legend()\n",
    "\n",
    "# グラフの表示\n",
    "plt.show()\n"
   ]
  }
 ],
 "metadata": {
  "kernelspec": {
   "display_name": "Python 3",
   "language": "python",
   "name": "python3"
  },
  "language_info": {
   "codemirror_mode": {
    "name": "ipython",
    "version": 3
   },
   "file_extension": ".py",
   "mimetype": "text/x-python",
   "name": "python",
   "nbconvert_exporter": "python",
   "pygments_lexer": "ipython3",
   "version": "3.11.3"
  }
 },
 "nbformat": 4,
 "nbformat_minor": 2
}
